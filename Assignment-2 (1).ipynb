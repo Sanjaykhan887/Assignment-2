{
 "cells": [
  {
   "cell_type": "markdown",
   "id": "c252108c-2b32-48b0-bb7c-87ac76634922",
   "metadata": {},
   "source": [
    "Q.1 Weite a program to accept percentage from the user amd display the grade according to the following criteria:"
   ]
  },
  {
   "cell_type": "markdown",
   "id": "cb845bec-f5ce-4555-825c-a9283365d2b0",
   "metadata": {},
   "source": [
    "marks = int(input('enter your marks'))\n",
    "if marks >= 90 : \n",
    "    print('you will be a part of A batch')\n",
    "elif marks >= 80 and marks <90:\n",
    "    print ('you will be a part of B batch')\n",
    "elif marks >= 60 and marks < 80 :\n",
    "    print('you will be a part of C batch ')\n",
    "else :\n",
    "        print('you will be a part of D batch')"
   ]
  },
  {
   "cell_type": "markdown",
   "id": "7629ecaf-4060-49a7-b831-4d1f948d50b7",
   "metadata": {},
   "source": [
    "Q.2 Write a program to accept the cost price of like and display the road tax to be paid according to the following criteria:"
   ]
  },
  {
   "cell_type": "markdown",
   "id": "efedfeab-48e2-498f-95a2-94cf8b1451b8",
   "metadata": {},
   "source": [
    "price =int(input('enter price' ))\n",
    "if price > 100000 :\n",
    "    print('that tax was a 15%')\n",
    "elif price >= 50000 and price < 100000:\n",
    "    print('that tax was a 10%')\n",
    "elif price < 50000 :\n",
    "    print('that tax was a 5%')     "
   ]
  },
  {
   "cell_type": "markdown",
   "id": "d78e9293-dc14-4d25-9eae-56597a296dfb",
   "metadata": {},
   "source": [
    "Q.3 Accept any City from the user and display monuments of that city"
   ]
  },
  {
   "cell_type": "markdown",
   "id": "6428a9b6-be01-4f52-9a24-c5f371ae5053",
   "metadata": {},
   "source": [
    "Monuments ={\"Delhi\" : \"Red Fort\", \"Agra\" : \"Taj Mahal\", \"Jaipur\": 'Jal Mahal' }"
   ]
  },
  {
   "cell_type": "markdown",
   "id": "c50f9698-f963-4f56-a267-16582ccab870",
   "metadata": {},
   "source": [
    "Monuments[\"Delhi\"]"
   ]
  },
  {
   "cell_type": "markdown",
   "id": "68dc3771-2111-428f-a27f-1129ae365a29",
   "metadata": {},
   "source": [
    "Q.4Check how many time a given number can be divided by 3 before it is less than or equal 10"
   ]
  },
  {
   "cell_type": "markdown",
   "id": "f6d4f554-0815-41c7-9922-6f9725ee43d8",
   "metadata": {},
   "source": [
    "number = int(input(\"Enter a number: \"))\n",
    "\n",
    "count = 0\n",
    "\n",
    "while number > 10:\n",
    "    \n",
    "    number = number / 3\n",
    "    \n",
    "    count += 1\n",
    "    print(\"The number can be divided by 3 is\")"
   ]
  },
  {
   "cell_type": "markdown",
   "id": "b0512ed6-376a-4d50-a93e-2c5b590dcbe9",
   "metadata": {},
   "source": [
    "Q.1 why and when to use while loop in python give a detailed description with example\n",
    "Ans.Python while loop is used to run a block code until a certain condition is met"
   ]
  },
  {
   "cell_type": "markdown",
   "id": "34fa4ce7-364a-4f91-baf4-abc0c655299e",
   "metadata": {},
   "source": [
    "ans. # A while loop in Python is used to repeatedly execute a block of code\n",
    "# as long as a certain condition is met.\n",
    "# The loop will keep running as long as the condition is True,\n",
    "# and will exit when the condition becomes False.\n",
    "\n",
    "# Here's the general syntax for a while loop in Python:\n",
    "# while condition:\n",
    "#     # Code to be executed\n",
    "\n",
    "# Here's an example that demonstrates the use of a while loop:\n",
    "# Print the numbers from 1 to 10\n",
    "counter = 1\n",
    "\n",
    "while counter <= 10:\n",
    "    print(counter)\n",
    "    counter += 1\n",
    "\n",
    "# In this example, the while loop will run as long as\n",
    "# the value of counter is less than or equal to 10.\n",
    "# On each iteration of the loop, the value of counter is printed,\n",
    "# and then incremented by 1.\n",
    "# The loop will exit when the value of counter becomes greater than 10.\n",
    "\n",
    "# The while loop is useful when you don't know in advance how many times\n",
    "# you need to loop, and you want to keep looping until a certain condition is met.\n",
    "# For example, you can use a while loop to read data from a file until the end of the file is reached,\n",
    "# or to keep asking the user for input until a valid response is given."
   ]
  },
  {
   "cell_type": "markdown",
   "id": "f773f706-92a4-41a3-ad12-be5e1bc63322",
   "metadata": {},
   "source": [
    "6.Use nested while loop to print 3 different pattern"
   ]
  },
  {
   "cell_type": "markdown",
   "id": "3c5ad843-7de7-4ef7-9ce4-64bb37fbee42",
   "metadata": {},
   "source": [
    "ANS:\n",
    "#pattern 1 \n",
    "print(\"Pattern 1\")\n",
    "#initialize variables \n",
    "i=1\n",
    "j=1\n",
    "#while loop\n",
    "while i<5:\n",
    "    #nested while\n",
    "    while j<=i:\n",
    "        #printed j without space\n",
    "        print(j, end=\"\")\n",
    "        #increment j by 1\n",
    "        j+=1\n",
    "    #print new line\n",
    "    print()\n",
    "    #reset value of j\n",
    "    j=1\n",
    "    #increment value of i by 1\n",
    "    i+=1\n",
    "\n",
    "print(\"----------------------------------------------------------------\")\n",
    "print(\"Pattern 2\")\n",
    "#initialize variables \n",
    "i=1\n",
    "j=1\n",
    "#while loop\n",
    "while i<5:\n",
    "    #nested while\n",
    "    while j<=i:\n",
    "        #printed * without space\n",
    "        print(\"*\", end=\"\")\n",
    "        #increment j by 1\n",
    "        j+=1\n",
    "    #print new line\n",
    "    print()\n",
    "    #reset value of j\n",
    "    j=1\n",
    "    #increment value of i by 1\n",
    "    i+=1\n",
    "\n",
    "print(\"----------------------------------------------------------------\")\n",
    "print(\"Pattern 3\")\n",
    "#initialize variables \n",
    "i=1\n",
    "j=1\n",
    "#while loop\n",
    "while i<10:\n",
    "    #nested while\n",
    "    while j<10:\n",
    "        #printed smile with smile using Unicode associated with it\n",
    "        print(\"\\U0001f600\\U0001f600\", end=\"\\U0001F606\")\n",
    "        #increment j by 1\n",
    "        j+=1\n",
    "    #print new line\n",
    "    print()\n",
    "    #reset value of j\n",
    "    j=1\n",
    "    #increment value of i by 1\n",
    "    i+=1\n"
   ]
  },
  {
   "cell_type": "markdown",
   "id": "308a0271-e735-4ce5-9383-a64bc5e90792",
   "metadata": {},
   "source": [
    "7.reverse a while loop to display the numbers from 10 to 1"
   ]
  },
  {
   "cell_type": "markdown",
   "id": "748fd778-25a8-4c39-b5e4-1842083da63a",
   "metadata": {},
   "source": [
    "#variable declaration\n",
    "upperBound=10\n",
    "lowerBound=1\n",
    "#while loop\n",
    "while upperBound>=lowerBound:\n",
    "    #print upperBound\n",
    "    print(upperBound)\n",
    "    #decrement upperBound by 1\n",
    "    upperBound-=1"
   ]
  },
  {
   "cell_type": "markdown",
   "id": "70f911f2-6f2b-4a9f-ad29-10a7d25b1d49",
   "metadata": {},
   "source": [
    "8 reverse a while loop to display the numbers from 10 to 1"
   ]
  },
  {
   "cell_type": "markdown",
   "id": "04d92ea0-356d-4f56-a60e-d8f269d32547",
   "metadata": {},
   "source": [
    "ANs:\n",
    "    #variable declaration\n",
    "upperBound=10\n",
    "lowerBound=1\n",
    "#while loop\n",
    "while upperBound>=lowerBound:\n",
    "    #print upperBound\n",
    "    print(upperBound)\n",
    "    #decrement upperBound by 1\n",
    "    upperBound-=1"
   ]
  }
 ],
 "metadata": {
  "kernelspec": {
   "display_name": "Python 3 (ipykernel)",
   "language": "python",
   "name": "python3"
  },
  "language_info": {
   "codemirror_mode": {
    "name": "ipython",
    "version": 3
   },
   "file_extension": ".py",
   "mimetype": "text/x-python",
   "name": "python",
   "nbconvert_exporter": "python",
   "pygments_lexer": "ipython3",
   "version": "3.10.6"
  }
 },
 "nbformat": 4,
 "nbformat_minor": 5
}
