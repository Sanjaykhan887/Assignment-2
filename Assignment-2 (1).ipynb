{
 "cells": [
  {
   "cell_type": "markdown",
   "id": "0d8851f4-cd14-43d2-ba28-4130a330dd2b",
   "metadata": {},
   "source": [
    "Q.1 Weite a program to accept percentage from the user amd display the grade according to the following criteria:"
   ]
  },
  {
   "cell_type": "code",
   "execution_count": 13,
   "id": "fd2f213c-d1b6-44d2-99fe-650493caadd3",
   "metadata": {},
   "outputs": [
    {
     "name": "stdin",
     "output_type": "stream",
     "text": [
      "enter your marks 50\n"
     ]
    },
    {
     "name": "stdout",
     "output_type": "stream",
     "text": [
      "you will be a part of D batch\n"
     ]
    }
   ],
   "source": [
    "marks = int(input('enter your marks'))\n",
    "if marks >= 90 : \n",
    "    print('you will be a part of A batch')\n",
    "elif marks >= 80 and marks <90:\n",
    "    print ('you will be a part of B batch')\n",
    "elif marks >= 60 and marks < 80 :\n",
    "    print('you will be a part of C batch ')\n",
    "else :\n",
    "        print('you will be a part of D batch')"
   ]
  },
  {
   "cell_type": "code",
   "execution_count": null,
   "id": "33c0f1aa-aeac-4126-9d52-ec7ddabad7f9",
   "metadata": {},
   "outputs": [],
   "source": [
    "Q.2 Write a program to accept the cost price of like and display the road tax to be paid according to the following criteria:"
   ]
  },
  {
   "cell_type": "code",
   "execution_count": 12,
   "id": "01f54295-70e2-4987-8750-9cdb55e39ae6",
   "metadata": {},
   "outputs": [
    {
     "name": "stdin",
     "output_type": "stream",
     "text": [
      "enter price 10\n"
     ]
    },
    {
     "name": "stdout",
     "output_type": "stream",
     "text": [
      "that tax was a 5%\n"
     ]
    }
   ],
   "source": [
    "price =int(input('enter price' ))\n",
    "if price > 100000 :\n",
    "    print('that tax was a 15%')\n",
    "elif price >= 50000 and price < 100000:\n",
    "    print('that tax was a 10%')\n",
    "elif price < 50000 :\n",
    "    print('that tax was a 5%')     "
   ]
  },
  {
   "cell_type": "code",
   "execution_count": null,
   "id": "52ba5130-556f-433e-9cda-3f3a212c7258",
   "metadata": {},
   "outputs": [],
   "source": [
    "Q.3 Accept any City from the user and display monuments of that city"
   ]
  },
  {
   "cell_type": "code",
   "execution_count": 11,
   "id": "fa41e24a-2429-4311-9305-dcfb8beaf1a0",
   "metadata": {},
   "outputs": [
    {
     "name": "stdin",
     "output_type": "stream",
     "text": [
      "Enter city name:  Agra\n"
     ]
    },
    {
     "name": "stdout",
     "output_type": "stream",
     "text": [
      "Taj Mahal\n"
     ]
    }
   ],
   "source": [
    "\n",
    "city = input(\"Enter city name: \")\n",
    "\n",
    "if city == \"Delhi\":\n",
    "    print(\"Red Fort\")\n",
    "elif city == \"Agra\":\n",
    "    print(\"Taj Mahal\")\n",
    "elif city == \"Jaipur\":\n",
    "    print(\"Jal Mahal\")"
   ]
  },
  {
   "cell_type": "markdown",
   "id": "52d0ab58-64c8-4be0-8da9-86a8e8269863",
   "metadata": {},
   "source": [
    "Q.4Check how many time a given number can be divided by 3 before it is less than or equal 10"
   ]
  },
  {
   "cell_type": "code",
   "execution_count": 3,
   "id": "5be70c3f-6d12-4a42-b7f9-2540aeb72f97",
   "metadata": {},
   "outputs": [
    {
     "name": "stdin",
     "output_type": "stream",
     "text": [
      "Enter a number:  10\n"
     ]
    },
    {
     "name": "stdout",
     "output_type": "stream",
     "text": [
      "The number can be divided by 3 is 0 times before it is less than or equal to 10.\n"
     ]
    }
   ],
   "source": [
    "#check how many times a given number can be divided by 3\n",
    "#before it is less than or equal to 10\n",
    "\n",
    "\n",
    "number = int(input(\"Enter a number: \"))\n",
    "\n",
    "count = 0\n",
    "\n",
    "while number > 10:\n",
    "    \n",
    "    number = number / 3\n",
    "    \n",
    "    count += 1\n",
    "\n",
    "print(\"The number can be divided by 3 is\", count, \"times before it is less than or equal to 10.\")\n",
    "\n"
   ]
  },
  {
   "cell_type": "markdown",
   "id": "df811b56-7c51-4e83-94d6-3d56bbbf7a60",
   "metadata": {},
   "source": [
    "Q.1 why and when to use while loop in python give a detailed description with example\n",
    "Ans.Python while loop is used to run a block code until a certain condition is met"
   ]
  },
  {
   "cell_type": "code",
   "execution_count": 5,
   "id": "d883e761-d960-46a4-8771-7d91f6e8821a",
   "metadata": {},
   "outputs": [
    {
     "name": "stdout",
     "output_type": "stream",
     "text": [
      "1\n",
      "2\n",
      "3\n",
      "4\n",
      "5\n",
      "6\n",
      "7\n",
      "8\n",
      "9\n",
      "10\n"
     ]
    }
   ],
   "source": [
    "# A while loop in Python is used to repeatedly execute a block of code\n",
    "# as long as a certain condition is met.\n",
    "# The loop will keep running as long as the condition is True,\n",
    "# and will exit when the condition becomes False.\n",
    "\n",
    "# Here's the general syntax for a while loop in Python:\n",
    "# while condition:\n",
    "#     # Code to be executed\n",
    "\n",
    "# Here's an example that demonstrates the use of a while loop:\n",
    "# Print the numbers from 1 to 10\n",
    "counter = 1\n",
    "\n",
    "while counter <= 10:\n",
    "    print(counter)\n",
    "    counter += 1\n",
    "\n",
    "# In this example, the while loop will run as long as\n",
    "# the value of counter is less than or equal to 10.\n",
    "# On each iteration of the loop, the value of counter is printed,\n",
    "# and then incremented by 1.\n",
    "# The loop will exit when the value of counter becomes greater than 10.\n",
    "\n",
    "# The while loop is useful when you don't know in advance how many times\n",
    "# you need to loop, and you want to keep looping until a certain condition is met.\n",
    "# For example, you can use a while loop to read data from a file until the end of the file is reached,\n",
    "# or to keep asking the user for input until a valid response is given."
   ]
  },
  {
   "cell_type": "code",
   "execution_count": null,
   "id": "c523901b-2b12-4e78-8e29-837691501cd9",
   "metadata": {},
   "outputs": [],
   "source": [
    "6.Use nested while loop to print 3 different pattern"
   ]
  },
  {
   "cell_type": "code",
   "execution_count": 6,
   "id": "b5096887-ada6-4bfb-82b8-d6c44a159a4b",
   "metadata": {},
   "outputs": [
    {
     "name": "stdout",
     "output_type": "stream",
     "text": [
      "Pattern 1\n",
      "1\n",
      "12\n",
      "123\n",
      "1234\n",
      "----------------------------------------------------------------\n",
      "Pattern 2\n",
      "*\n",
      "**\n",
      "***\n",
      "****\n",
      "----------------------------------------------------------------\n",
      "Pattern 3\n",
      "😀😀😆😀😀😆😀😀😆😀😀😆😀😀😆😀😀😆😀😀😆😀😀😆😀😀😆\n",
      "😀😀😆😀😀😆😀😀😆😀😀😆😀😀😆😀😀😆😀😀😆😀😀😆😀😀😆\n",
      "😀😀😆😀😀😆😀😀😆😀😀😆😀😀😆😀😀😆😀😀😆😀😀😆😀😀😆\n",
      "😀😀😆😀😀😆😀😀😆😀😀😆😀😀😆😀😀😆😀😀😆😀😀😆😀😀😆\n",
      "😀😀😆😀😀😆😀😀😆😀😀😆😀😀😆😀😀😆😀😀😆😀😀😆😀😀😆\n",
      "😀😀😆😀😀😆😀😀😆😀😀😆😀😀😆😀😀😆😀😀😆😀😀😆😀😀😆\n",
      "😀😀😆😀😀😆😀😀😆😀😀😆😀😀😆😀😀😆😀😀😆😀😀😆😀😀😆\n",
      "😀😀😆😀😀😆😀😀😆😀😀😆😀😀😆😀😀😆😀😀😆😀😀😆😀😀😆\n",
      "😀😀😆😀😀😆😀😀😆😀😀😆😀😀😆😀😀😆😀😀😆😀😀😆😀😀😆\n"
     ]
    }
   ],
   "source": [
    "\n",
    "#pattern 1 \n",
    "print(\"Pattern 1\")\n",
    "#initialize variables \n",
    "i=1\n",
    "j=1\n",
    "#while loop\n",
    "while i<5:\n",
    "    #nested while\n",
    "    while j<=i:\n",
    "        #printed j without space\n",
    "        print(j, end=\"\")\n",
    "        #increment j by 1\n",
    "        j+=1\n",
    "    #print new line\n",
    "    print()\n",
    "    #reset value of j\n",
    "    j=1\n",
    "    #increment value of i by 1\n",
    "    i+=1\n",
    "\n",
    "print(\"----------------------------------------------------------------\")\n",
    "print(\"Pattern 2\")\n",
    "#initialize variables \n",
    "i=1\n",
    "j=1\n",
    "#while loop\n",
    "while i<5:\n",
    "    #nested while\n",
    "    while j<=i:\n",
    "        #printed * without space\n",
    "        print(\"*\", end=\"\")\n",
    "        #increment j by 1\n",
    "        j+=1\n",
    "    #print new line\n",
    "    print()\n",
    "    #reset value of j\n",
    "    j=1\n",
    "    #increment value of i by 1\n",
    "    i+=1\n",
    "\n",
    "print(\"----------------------------------------------------------------\")\n",
    "print(\"Pattern 3\")\n",
    "#initialize variables \n",
    "i=1\n",
    "j=1\n",
    "#while loop\n",
    "while i<10:\n",
    "    #nested while\n",
    "    while j<10:\n",
    "        #printed smile with smile using Unicode associated with it\n",
    "        print(\"\\U0001f600\\U0001f600\", end=\"\\U0001F606\")\n",
    "        #increment j by 1\n",
    "        j+=1\n",
    "    #print new line\n",
    "    print()\n",
    "    #reset value of j\n",
    "    j=1\n",
    "    #increment value of i by 1\n",
    "    i+=1\n"
   ]
  },
  {
   "cell_type": "code",
   "execution_count": null,
   "id": "76a6a64d-5e6b-44d3-a84a-3d4469956dbe",
   "metadata": {},
   "outputs": [],
   "source": [
    "7.reverse a while loop to display the numbers from 10 to 1"
   ]
  },
  {
   "cell_type": "code",
   "execution_count": 16,
   "id": "1f9b9850-a893-4af5-a4b0-db29bdd1452b",
   "metadata": {},
   "outputs": [
    {
     "name": "stdout",
     "output_type": "stream",
     "text": [
      "10\n",
      "9\n",
      "8\n",
      "7\n",
      "6\n",
      "5\n",
      "4\n",
      "3\n",
      "2\n",
      "1\n"
     ]
    }
   ],
   "source": [
    "#variable declaration\n",
    "upperBound=10\n",
    "lowerBound=1\n",
    "#while loop\n",
    "while upperBound>=lowerBound:\n",
    "    #print upperBound\n",
    "    print(upperBound)\n",
    "    #decrement upperBound by 1\n",
    "    upperBound-=1"
   ]
  },
  {
   "cell_type": "code",
   "execution_count": null,
   "id": "5477b6b6-e5a0-4f41-b6e7-299eb66f5f3c",
   "metadata": {},
   "outputs": [],
   "source": [
    "8 reverse a while loop to display the numbers from 10 to 1"
   ]
  },
  {
   "cell_type": "code",
   "execution_count": 17,
   "id": "3b933463-b01a-447b-ac21-593eba37535b",
   "metadata": {},
   "outputs": [
    {
     "name": "stdout",
     "output_type": "stream",
     "text": [
      "10\n"
     ]
    }
   ],
   "source": [
    "#reverse a while loop to display the numbers from 10 to 1\n",
    "\n",
    "#variable declaration\n",
    "upperBound=10\n",
    "lowerBound=1\n",
    "#while loop\n",
    "while upperBound>=lowerBound:\n",
    "    #print upperBound\n",
    "    print(upperBound)\n",
    "    #decrement upperBound by 1\n",
    "    upperBound-=10"
   ]
  },
  {
   "cell_type": "code",
   "execution_count": null,
   "id": "2be2a2c0-e6f2-4110-8732-aeee44ca1724",
   "metadata": {},
   "outputs": [],
   "source": []
  }
 ],
 "metadata": {
  "kernelspec": {
   "display_name": "Python 3 (ipykernel)",
   "language": "python",
   "name": "python3"
  },
  "language_info": {
   "codemirror_mode": {
    "name": "ipython",
    "version": 3
   },
   "file_extension": ".py",
   "mimetype": "text/x-python",
   "name": "python",
   "nbconvert_exporter": "python",
   "pygments_lexer": "ipython3",
   "version": "3.10.8"
  }
 },
 "nbformat": 4,
 "nbformat_minor": 5
}
