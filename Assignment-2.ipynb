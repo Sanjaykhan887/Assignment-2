{
 "cells": [
  {
   "cell_type": "markdown",
   "id": "c252108c-2b32-48b0-bb7c-87ac76634922",
   "metadata": {},
   "source": [
    "Q.1 Weite a program to accept percentage from the user amd display the grade according to the following criteria:"
   ]
  },
  {
   "cell_type": "code",
   "execution_count": 5,
   "id": "3a6ed0a8-7376-445f-a79c-54e3ed16843a",
   "metadata": {},
   "outputs": [
    {
     "name": "stdin",
     "output_type": "stream",
     "text": [
      "enter your marks 90\n"
     ]
    },
    {
     "name": "stdout",
     "output_type": "stream",
     "text": [
      "you will be a part of A batch\n"
     ]
    }
   ],
   "source": [
    "marks = int(input('enter your marks'))\n",
    "if marks >= 90 : \n",
    "    print('you will be a part of A batch')\n",
    "elif marks >= 80 and marks <90:\n",
    "    print ('you will be a part of B batch')\n",
    "elif marks >= 60 and marks < 80 :\n",
    "    print('you will be a part of C batch ')\n",
    "else :\n",
    "        print('you will be a part of D batch')"
   ]
  },
  {
   "cell_type": "markdown",
   "id": "7629ecaf-4060-49a7-b831-4d1f948d50b7",
   "metadata": {},
   "source": [
    "Q.2 Write a program to accept the cost price of like and display the road tax to be paid according to the following criteria:"
   ]
  },
  {
   "cell_type": "code",
   "execution_count": 19,
   "id": "60fa0452-bd44-4bb2-81e4-5a8eebc3ea58",
   "metadata": {},
   "outputs": [
    {
     "name": "stdin",
     "output_type": "stream",
     "text": [
      "enter price 50000\n"
     ]
    },
    {
     "name": "stdout",
     "output_type": "stream",
     "text": [
      "that tax was a 10%\n"
     ]
    }
   ],
   "source": [
    "price =int(input('enter price' ))\n",
    "if price > 100000 :\n",
    "    print('that tax was a 15%')\n",
    "elif price >= 50000 and price < 100000:\n",
    "    print('that tax was a 10%')\n",
    "elif price < 50000 :\n",
    "    print('that tax was a 5%')     "
   ]
  },
  {
   "cell_type": "markdown",
   "id": "d78e9293-dc14-4d25-9eae-56597a296dfb",
   "metadata": {},
   "source": [
    "Q.3 Accept any City from the user and display monuments of that city"
   ]
  },
  {
   "cell_type": "code",
   "execution_count": 34,
   "id": "1348b2ff-008a-4cbd-a0f6-d51c4012399b",
   "metadata": {},
   "outputs": [],
   "source": [
    "Monuments ={\"Delhi\" : \"Red Fort\", \"Agra\" : \"Taj Mahal\", \"Jaipur\": 'Jal Mahal' }"
   ]
  },
  {
   "cell_type": "code",
   "execution_count": 35,
   "id": "421cc62e-95ea-4ba0-b3eb-47dd329366c4",
   "metadata": {},
   "outputs": [
    {
     "data": {
      "text/plain": [
       "'Red Fort'"
      ]
     },
     "execution_count": 35,
     "metadata": {},
     "output_type": "execute_result"
    }
   ],
   "source": [
    "Monuments[\"Delhi\"]"
   ]
  },
  {
   "cell_type": "markdown",
   "id": "68dc3771-2111-428f-a27f-1129ae365a29",
   "metadata": {},
   "source": [
    "Q.4Check how many time a given number can be divided by 3 before it is less than or equal 10"
   ]
  },
  {
   "cell_type": "code",
   "execution_count": 42,
   "id": "ffb34689-668b-45d8-b753-aa278fff9066",
   "metadata": {},
   "outputs": [],
   "source": [
    "n=3\n",
    "def div(n):\n",
    "    while n >= 10:\n",
    "        n / 3\n",
    "    return n"
   ]
  },
  {
   "cell_type": "code",
   "execution_count": 38,
   "id": "70039750-fc1f-4c89-b65e-1490de96f4c8",
   "metadata": {},
   "outputs": [
    {
     "data": {
      "text/plain": [
       "10"
      ]
     },
     "execution_count": 38,
     "metadata": {},
     "output_type": "execute_result"
    }
   ],
   "source": []
  },
  {
   "cell_type": "markdown",
   "id": "b0512ed6-376a-4d50-a93e-2c5b590dcbe9",
   "metadata": {},
   "source": [
    "Q.1 why and when to use while loop in python give a detailed description with example\n",
    "Ans.Python while loop is used to run a block code until a certain condition is met"
   ]
  },
  {
   "cell_type": "code",
   "execution_count": null,
   "id": "4a578b68-31e9-4196-a015-c6ba330f95a1",
   "metadata": {},
   "outputs": [],
   "source": []
  }
 ],
 "metadata": {
  "kernelspec": {
   "display_name": "Python 3 (ipykernel)",
   "language": "python",
   "name": "python3"
  },
  "language_info": {
   "codemirror_mode": {
    "name": "ipython",
    "version": 3
   },
   "file_extension": ".py",
   "mimetype": "text/x-python",
   "name": "python",
   "nbconvert_exporter": "python",
   "pygments_lexer": "ipython3",
   "version": "3.10.6"
  }
 },
 "nbformat": 4,
 "nbformat_minor": 5
}
